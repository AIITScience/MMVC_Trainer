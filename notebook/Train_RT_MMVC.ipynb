{
  "nbformat": 4,
  "nbformat_minor": 0,
  "metadata": {
    "colab": {
      "name": "Train_RT-MMVC.ipynb",
      "provenance": [],
      "collapsed_sections": [],
      "machine_shape": "hm"
    },
    "kernelspec": {
      "name": "python3",
      "display_name": "Python 3"
    },
    "language_info": {
      "name": "python"
    },
    "accelerator": "GPU"
  },
  "cells": [
    {
      "cell_type": "markdown",
      "source": [
        "# RT-MMVC Trainer\n",
        "ver.2022/03/07"
      ],
      "metadata": {
        "id": "qjxnLNp4TAqD"
      }
    },
    {
      "cell_type": "markdown",
      "source": [
        "## 1 概要\n",
        "「Google Colaboratory」を利用してRT-MMVCで利用するVITSの学習を行います。"
      ],
      "metadata": {
        "id": "N0DqCHlOTVEm"
      }
    },
    {
      "cell_type": "markdown",
      "source": [
        "## 2 Google Drive をマウント\n",
        "**Google Drive にアップロードした RT-MMVC_Trainer を参照できるように、設定します。**\n",
        "\n",
        "「このノートブックに Google ドライブのファイルへのアクセスを許可しますか？」\n",
        "\n",
        "といったポップアップが表示されるので、「Google ドライブに接続」を押下し、google アカウントを選択して、「許可」を選択してください。\n",
        "\n",
        "成功すれば、下記メッセージが出ます。\n",
        "```\n",
        "Mounted at /content/drive/\n",
        "```\n"
      ],
      "metadata": {
        "id": "GE7TpicbUPdz"
      }
    },
    {
      "cell_type": "code",
      "execution_count": null,
      "metadata": {
        "id": "Dg93D-60nqYK"
      },
      "outputs": [],
      "source": [
        "from google.colab import drive\n",
        "drive.mount('/content/drive')"
      ]
    },
    {
      "cell_type": "markdown",
      "source": [
        "cdコマンドを実行して、マウントしたGoogle Drive のRT-MMVC_Trainerディレクトリに移動します。\n",
        "\n",
        "%cd 「RT-MMVC_Trainerをgoogle driveにパップロードしたパス」\n",
        "\n",
        "としてください。\n",
        "\n",
        "正しいパスが指定されていれば\n",
        "\n",
        "-rw------- 1 root root 11780 Mar  4 16:53 attentions.py\n",
        "\n",
        "-rw------- 1 root root  4778 Mar  4 16:53 commons.py\n",
        "\n",
        "drwx------ 2 root root  4096 Mar  5 15:20 configs\n",
        "\n",
        "...といった感じに表示されるはずです。"
      ],
      "metadata": {
        "id": "4G4TAHzvUZY6"
      }
    },
    {
      "cell_type": "code",
      "source": [
        "%cd /content/drive/MyDrive/Colab Notebooks/"
      ],
      "metadata": {
        "id": "kwRuNkLEn5QH"
      },
      "execution_count": null,
      "outputs": []
    },
    {
      "cell_type": "markdown",
      "source": [
        "## 3 GPUの確認\n",
        "GPUの確認を行います。\n",
        "\n",
        "割り当てられたGPUのメモリーを確認し、それに合わせてconfigファイルの**\"batch_size\"**を指定してください。\n",
        "\n",
        "16GBで\"batch_size\": 24がギリギリ回ります。 "
      ],
      "metadata": {
        "id": "5FTEcWtXUdKH"
      }
    },
    {
      "cell_type": "code",
      "source": [
        "!nvidia-smi "
      ],
      "metadata": {
        "id": "uSMdNq2rn4_G"
      },
      "execution_count": null,
      "outputs": []
    },
    {
      "cell_type": "markdown",
      "source": [
        "## 4 必要なライブラリのインストール\n",
        "\n",
        "何も考えず実行してください。\n",
        "\n",
        "結構時間かかります。"
      ],
      "metadata": {
        "id": "Cn0fxtiQUifh"
      }
    },
    {
      "cell_type": "code",
      "source": [
        "!apt-get install espeak\n",
        "!pip install Cython==0.29.21\n",
        "!pip install librosa==0.8.0\n",
        "!pip install matplotlib==3.3.1\n",
        "!pip install numpy\n",
        "!pip install phonemizer==2.2.1\n",
        "!pip install scipy==1.5.2\n",
        "!pip install tensorboard==2.3.0\n",
        "!pip install torch==1.6.0\n",
        "!pip install torchvision==0.7.0\n",
        "!pip install Unidecode==1.1.1\n",
        "!pip install retry"
      ],
      "metadata": {
        "id": "LWceuYPPn7UN"
      },
      "execution_count": null,
      "outputs": []
    },
    {
      "cell_type": "markdown",
      "source": [
        "## 5 tensorboardの起動\n",
        "とりあえず実行しておいてください。"
      ],
      "metadata": {
        "id": "uO1cMVm2UuaZ"
      }
    },
    {
      "cell_type": "code",
      "source": [
        "# Load the TensorBoard notebook extension\n",
        "%load_ext tensorboard"
      ],
      "metadata": {
        "id": "4k3EKZNPn82i"
      },
      "execution_count": null,
      "outputs": []
    },
    {
      "cell_type": "code",
      "source": [
        "%tensorboard --logdir logs"
      ],
      "metadata": {
        "id": "0VAw8j3ln-iq"
      },
      "execution_count": null,
      "outputs": []
    },
    {
      "cell_type": "markdown",
      "source": [
        "## 6 学習を実行します\n",
        "-c configファイルのパス\n",
        "\n",
        "Create_Configfile.ipynb 等で作成したconfigファイル(json)を指定してください。\n",
        "`/configs/****.json`\n",
        "のような値になります。\n",
        "\n",
        "-m modelの保存先ディレクトリ\n",
        "\n",
        "**ディレクトリ名を直接指名してください。**\n",
        "\n",
        "が必須のパラメータになります。２回目以降の実行の場合は自動的に-mで指定したディレクトリの最新のモデルから学習を再開します。\n",
        "\n",
        "Ex)!python train_ms.py -c configs/baseconfig_seg4192.json -m 20220306_24000\n",
        "\n",
        "\n",
        "\n",
        "**※Fine tuningをしたい場合**\n",
        "\n",
        "-fg にFine tuningのベースとなるG_****.pth のpathを指定してください。\n",
        "\n",
        "-fd にFine tuningのベースとなるD_****.pth のpathを指定してください。"
      ],
      "metadata": {
        "id": "burdlftQVFOA"
      }
    },
    {
      "cell_type": "code",
      "source": [
        "!python train_ms.py -c configs/baseconfig_seg4192.json -m 20220306_24000"
      ],
      "metadata": {
        "id": "cf1XrJG2n_7N"
      },
      "execution_count": null,
      "outputs": []
    }
  ]
}