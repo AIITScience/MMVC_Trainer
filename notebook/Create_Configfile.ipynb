{
  "nbformat": 4,
  "nbformat_minor": 0,
  "metadata": {
    "colab": {
      "name": "Create_Configfile.ipynb",
      "provenance": [],
      "collapsed_sections": []
    },
    "kernelspec": {
      "name": "python3",
      "display_name": "Python 3"
    },
    "language_info": {
      "name": "python"
    }
  },
  "cells": [
    {
      "cell_type": "markdown",
      "source": [
        "# MMVCの学習に必要なconfig系Fileを作成する\n",
        "\n",
        "ver.2022/03/29\n",
        "\n"
      ],
      "metadata": {
        "id": "Q3egrWHAzs7H"
      }
    },
    {
      "cell_type": "markdown",
      "source": [
        "## 1 概要\n",
        "「Google Colaboratory」を利用した、MMVCの学習を実行するために必要なファイルを生成します。"
      ],
      "metadata": {
        "id": "V61VE7vxLaY3"
      }
    },
    {
      "cell_type": "markdown",
      "source": [
        "## 2 Google Drive をマウント\n",
        "**Google Drive にアップロードした MMVC_Trainer を参照できるように、設定します。**\n",
        "\n",
        "「このノートブックに Google ドライブのファイルへのアクセスを許可しますか？」\n",
        "\n",
        "といったポップアップが表示されるので、「Google ドライブに接続」を押下し、google アカウントを選択して、「許可」を選択してください。\n",
        "\n",
        "成功すれば、下記メッセージが出ます。\n",
        "```\n",
        "Mounted at /content/drive/\n",
        "```\n"
      ],
      "metadata": {
        "id": "kN0-Tj3TL-T2"
      }
    },
    {
      "cell_type": "code",
      "execution_count": null,
      "metadata": {
        "id": "hdfce8bPkpMB"
      },
      "outputs": [],
      "source": [
        "from google.colab import drive\n",
        "drive.mount('/content/drive')"
      ]
    },
    {
      "cell_type": "markdown",
      "source": [
        "cdコマンドを実行して、マウントしたGoogle Drive のMMVC_Trainerディレクトリに移動します。\n",
        "\n",
        "%cd 「MMVC_Trainerをgoogle driveにパップロードしたパス」\n",
        "\n",
        "としてください。\n",
        "\n",
        "正しいパスが指定されていれば\n",
        "\n",
        "-rw------- 1 root root 11780 Mar  4 16:53 attentions.py\n",
        "\n",
        "-rw------- 1 root root  4778 Mar  4 16:53 commons.py\n",
        "\n",
        "drwx------ 2 root root  4096 Mar  5 15:20 configs\n",
        "\n",
        "...といった感じに表示されるはずです。"
      ],
      "metadata": {
        "id": "AXCsRWVLNn0c"
      }
    },
    {
      "cell_type": "code",
      "source": [
        "%cd /content/drive/MyDrive/\n",
        "!ls -la"
      ],
      "metadata": {
        "id": "cLxKrVTGkvsq"
      },
      "execution_count": null,
      "outputs": []
    },
    {
      "cell_type": "markdown",
      "source": [
        "## 3 必要なライブラリのインストール\n",
        "\n",
        "何も考えず実行してください。"
      ],
      "metadata": {
        "id": "FS1ttfpyPckq"
      }
    },
    {
      "cell_type": "code",
      "source": [
        "!pip install pyopenjtalk"
      ],
      "metadata": {
        "id": "XDLDiK1Sk3uZ"
      },
      "execution_count": null,
      "outputs": []
    },
    {
      "cell_type": "markdown",
      "source": [
        "## 4 MMVCの学習に必要なconfig系Fileを作成する\n",
        "\n",
        "学習に必要なファイルを実行します。\n",
        "\n",
        "オプションは-f -s -cがあります。普通に使う際には-cは不要です。\n",
        "\n",
        "-f 作成するconfig系Fileの名前です。好きに決めてください。\n",
        "\n",
        "-s サンプリングレートです。datasetの音声のサンプリングレートに合わせて指定ください。デフォルトで24000を指定するように設定してあります。\n",
        "\n",
        "!python create_dataset_jtalk.py -f 「任意のファイル名」 -s 「任意のサンプリングレート」\n",
        "\n",
        "となります。\n",
        "\n",
        "実行時に\n",
        "\n",
        "「WARNING: JPCommonLabel_insert_pause() in jpcommon_label.c: First mora should not be short pause.」\n",
        "\n",
        "と表示されますが、無視して大丈夫です。\n",
        "\n",
        "「filelists」ディレクトリに\n",
        "\n",
        "「指定したconfig系Fileの名前_textful.txt」\n",
        "\n",
        "「指定したconfig系Fileの名前_textful_val.txt」\n",
        "\n",
        "「指定したconfig系Fileの名前_textless.txt」\n",
        "\n",
        "「指定したconfig系Fileの名前_val_textless.txt」\n",
        "\n",
        "「指定したconfig系Fileの名前_Correspondence.txt」\n",
        "\n",
        "上記5ファイル\n",
        "\n",
        "「configs」ディレクトリに\n",
        "\n",
        "「指定したconfig系Fileの名前.json」\n",
        "\n",
        "上記1ファイルが生成されていれば、成功です。\n",
        "\n",
        "\n",
        "\n",
        "**※以下興味がある方向け**\n",
        "\n",
        "create_dataset_jtalk.pyではベースになるjsonファイルを書き換えています。\n",
        "\n",
        "デフォルトでは、「/configs/baseconfig.json」が指定されており、このファイルの\n",
        "\n",
        "「training_files」「validation_files」「training_files_notext」「validation_files_notext」「sampling_rate」「n_speakers」\n",
        "\n",
        "の6項目を書き換えています。\n",
        "\n",
        "-c オプションではベースになるjsonファイルのpathを指定することができます。\n",
        "\n",
        "デフォルトのハイパーパラメータを変更した場合等に利用ください。\n",
        "\n",
        "\n"
      ],
      "metadata": {
        "id": "jX2VRWu4Pvqy"
      }
    },
    {
      "cell_type": "code",
      "source": [
        "!python create_dataset_jtalk.py -f jsontest -s 24000"
      ],
      "metadata": {
        "id": "qbh1TvLRk5pu"
      },
      "execution_count": null,
      "outputs": []
    }
  ]
}